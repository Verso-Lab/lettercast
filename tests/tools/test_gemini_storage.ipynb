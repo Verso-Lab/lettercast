{
 "cells": [
  {
   "cell_type": "code",
   "execution_count": 2,
   "metadata": {},
   "outputs": [
    {
     "name": "stderr",
     "output_type": "stream",
     "text": [
      "/Users/kaveh/Library/Caches/pypoetry/virtualenvs/lettercast-g7btClj_-py3.13/lib/python3.13/site-packages/tqdm/auto.py:21: TqdmWarning: IProgress not found. Please update jupyter and ipywidgets. See https://ipywidgets.readthedocs.io/en/stable/user_install.html\n",
      "  from .autonotebook import tqdm as notebook_tqdm\n"
     ]
    }
   ],
   "source": [
    "import os\n",
    "from dotenv import load_dotenv\n",
    "import google.generativeai as genai\n",
    "\n",
    "load_dotenv()\n",
    "genai.configure(api_key=os.getenv('GEMINI_API_KEY'))"
   ]
  },
  {
   "cell_type": "code",
   "execution_count": 21,
   "metadata": {},
   "outputs": [
    {
     "name": "stdout",
     "output_type": "stream",
     "text": [
      "genai.File({\n",
      "    'name': 'files/f2nlpxxth8f9',\n",
      "    'display_name': 'tmpz28ogrnu.mp3',\n",
      "    'mime_type': 'audio/mpeg',\n",
      "    'sha256_hash': 'OTczY2YyNzJhM2JiM2M5YmQ2ZjA2YzUwZDFjZGMwZWQ2OTAxNDZiMDQ5YmMzNDE4ZjI2MmUyMTYwY2JhMGY3YQ==',\n",
      "    'size_bytes': '12346100',\n",
      "    'state': 'ACTIVE',\n",
      "    'uri': 'https://generativelanguage.googleapis.com/v1beta/files/f2nlpxxth8f9',\n",
      "    'create_time': '2025-01-16T00:58:50.176136Z',\n",
      "    'expiration_time': '2025-01-18T00:58:50.152762647Z',\n",
      "    'update_time': '2025-01-16T00:58:50.176136Z'})\n",
      "genai.File({\n",
      "    'name': 'files/7zftzqjinyah',\n",
      "    'display_name': 'tmp1ct8m0wy.mp3',\n",
      "    'mime_type': 'audio/mpeg',\n",
      "    'sha256_hash': 'MDE5N2M0OGEzYTYzNTcwNjdlYmI1YWJjNWYzM2U3OWM0NTA2MDhkYjVmMmRhMWUxNzY3NWRhNzg0Yjk1N2I1Mg==',\n",
      "    'size_bytes': '38702420',\n",
      "    'state': 'ACTIVE',\n",
      "    'uri': 'https://generativelanguage.googleapis.com/v1beta/files/7zftzqjinyah',\n",
      "    'create_time': '2025-01-16T00:30:01.121871Z',\n",
      "    'expiration_time': '2025-01-18T00:30:01.118160241Z',\n",
      "    'update_time': '2025-01-16T00:30:01.121871Z'})\n",
      "genai.File({\n",
      "    'name': 'files/qttdjze5lfld',\n",
      "    'display_name': 'tmptllmavq1.mp3',\n",
      "    'mime_type': 'audio/mpeg',\n",
      "    'sha256_hash': 'NDcwODU0YjdkZTFmNWI1NzIyNzMxYzgzY2Q4NTA3NzY4MGMzZDc1NWVlM2U2MjBhZGQyNWUwMjI2M2Q3Yjk0Mw==',\n",
      "    'size_bytes': '15207452',\n",
      "    'state': 'ACTIVE',\n",
      "    'uri': 'https://generativelanguage.googleapis.com/v1beta/files/qttdjze5lfld',\n",
      "    'create_time': '2025-01-16T00:28:36.463553Z',\n",
      "    'expiration_time': '2025-01-18T00:28:36.441758179Z',\n",
      "    'update_time': '2025-01-16T00:28:36.463553Z'})\n",
      "genai.File({\n",
      "    'name': 'files/mcz8na6oa335',\n",
      "    'display_name': 'tmphy2vmkw9.mp3',\n",
      "    'mime_type': 'audio/mpeg',\n",
      "    'sha256_hash': 'NDc3ZmExYTIxYmQyOTE4YjQ4ZmRmOTkzNjE3MDQyNjU4NWMyY2E0ZTNiMTg4NWNmYTA2OGVmNDUxYTFmY2E3ZQ==',\n",
      "    'size_bytes': '21756140',\n",
      "    'state': 'ACTIVE',\n",
      "    'uri': 'https://generativelanguage.googleapis.com/v1beta/files/mcz8na6oa335',\n",
      "    'create_time': '2025-01-15T23:44:20.699020Z',\n",
      "    'expiration_time': '2025-01-17T23:44:20.682635423Z',\n",
      "    'update_time': '2025-01-15T23:44:20.699020Z'})\n",
      "genai.File({\n",
      "    'name': 'files/hhrtgh2iar4t',\n",
      "    'display_name': 'tmputhjrwlk.mp3',\n",
      "    'mime_type': 'audio/mpeg',\n",
      "    'sha256_hash': 'ODViOWE5MGY0Y2U0YTE1NTNmYzY4YTAwZThkM2E2M2EwMDRmOTE5NDJkNDdmMWViNDgzOTZlY2JmNjA4YzU0Nw==',\n",
      "    'size_bytes': '13421240',\n",
      "    'state': 'ACTIVE',\n",
      "    'uri': 'https://generativelanguage.googleapis.com/v1beta/files/hhrtgh2iar4t',\n",
      "    'create_time': '2025-01-15T23:36:03.205592Z',\n",
      "    'expiration_time': '2025-01-17T23:36:03.201720234Z',\n",
      "    'update_time': '2025-01-15T23:36:03.205592Z'})\n"
     ]
    }
   ],
   "source": [
    "for f in genai.list_files():\n",
    "    print(f)"
   ]
  },
  {
   "cell_type": "code",
   "execution_count": 19,
   "metadata": {},
   "outputs": [],
   "source": [
    "# for f in genai.list_files():\n",
    "genai.delete_file(\"files/ag3xeebxkxnm\")"
   ]
  },
  {
   "cell_type": "code",
   "execution_count": 11,
   "metadata": {},
   "outputs": [
    {
     "name": "stderr",
     "output_type": "stream",
     "text": [
      "{\"timestamp\": \"2025-01-15T23:56:46.124349+00:00\", \"level\": \"INFO\", \"logger\": \"src.core.audio_transformer\", \"message\": \"Starting audio transformation for: ../../audio/smartless.mp3\"}\n",
      "{\"timestamp\": \"2025-01-15T23:56:46.125718+00:00\", \"level\": \"INFO\", \"logger\": \"src.core.audio_transformer\", \"message\": \"Original file size: 55.19 MB\"}\n",
      "{\"timestamp\": \"2025-01-15T23:56:46.126123+00:00\", \"level\": \"INFO\", \"logger\": \"src.core.audio_transformer\", \"message\": \"Loading audio file...\"}\n",
      "{\"timestamp\": \"2025-01-15T23:56:50.413295+00:00\", \"level\": \"INFO\", \"logger\": \"src.core.audio_transformer\", \"message\": \"Original audio: 2 channels, 44100Hz\"}\n",
      "{\"timestamp\": \"2025-01-15T23:56:50.711768+00:00\", \"level\": \"INFO\", \"logger\": \"src.core.audio_transformer\", \"message\": \"Converted to mono\"}\n",
      "{\"timestamp\": \"2025-01-15T23:56:52.808666+00:00\", \"level\": \"INFO\", \"logger\": \"src.core.audio_transformer\", \"message\": \"Reduced sample rate to 16kHz\"}\n",
      "{\"timestamp\": \"2025-01-15T23:56:52.811326+00:00\", \"level\": \"INFO\", \"logger\": \"src.core.audio_transformer\", \"message\": \"Exporting compressed audio...\"}\n",
      "{\"timestamp\": \"2025-01-15T23:56:58.527252+00:00\", \"level\": \"INFO\", \"logger\": \"src.core.audio_transformer\", \"message\": \"Compressed file size: 12.80 MB\"}\n",
      "{\"timestamp\": \"2025-01-15T23:56:58.527986+00:00\", \"level\": \"INFO\", \"logger\": \"src.core.audio_transformer\", \"message\": \"Size reduction: 76.8%\"}\n",
      "{\"timestamp\": \"2025-01-15T23:56:58.528258+00:00\", \"level\": \"INFO\", \"logger\": \"src.core.audio_transformer\", \"message\": \"Transformation completed in 12.4 seconds\"}\n"
     ]
    },
    {
     "name": "stdout",
     "output_type": "stream",
     "text": [
      "Raw hash: 85b9a90f4ce4a1553fc68a00e8d3a63a004f91942d47f1eb48396ecbf608c547\n",
      "\n",
      "Our base64 hash: ODViOWE5MGY0Y2U0YTE1NTNmYzY4YTAwZThkM2E2M2EwMDRmOTE5NDJkNDdmMWViNDgzOTZlY2JmNjA4YzU0Nw==\n",
      "\n",
      "Direct base64 hash of bytes: hbmpD0zkoVU/xooA6NOmOgBPkZQtR/HrSDluy/YIxUc=\n",
      "\n",
      "File size: 13421240\n",
      "\n",
      "Compare these with Gemini's sha256_hash in the output above\n"
     ]
    }
   ],
   "source": [
    "import hashlib\n",
    "import base64\n",
    "from src.core.audio_transformer import transform_audio\n",
    "\n",
    "original_path = '../../audio/smartless.mp3'\n",
    "transformed_path = transform_audio(original_path)\n",
    "\n",
    "with open(transformed_path, 'rb') as f:\n",
    "    file_bytes = f.read()\n",
    "    # Get raw hash\n",
    "    raw_hash = hashlib.sha256(file_bytes).hexdigest()\n",
    "    print(f\"Raw hash: {raw_hash}\")\n",
    "    \n",
    "    # Get base64 encoded hash (like we're doing in analyzer.py)\n",
    "    b64_hash = base64.b64encode(hashlib.sha256(file_bytes).hexdigest().encode()).decode()\n",
    "    print(f\"\\nOur base64 hash: {b64_hash}\")\n",
    "    \n",
    "    # Get direct base64 of file bytes (in case Gemini does this)\n",
    "    direct_b64_hash = base64.b64encode(hashlib.sha256(file_bytes).digest()).decode()\n",
    "    print(f\"\\nDirect base64 hash of bytes: {direct_b64_hash}\")\n",
    "    \n",
    "    print(f\"\\nFile size: {len(file_bytes)}\")\n",
    "\n",
    "print(\"\\nCompare these with Gemini's sha256_hash in the output above\")\n",
    "\n",
    "# Clean up the temporary file\n",
    "os.unlink(transformed_path)"
   ]
  }
 ],
 "metadata": {
  "kernelspec": {
   "display_name": "lettercast-g7btClj_-py3.13",
   "language": "python",
   "name": "python3"
  },
  "language_info": {
   "codemirror_mode": {
    "name": "ipython",
    "version": 3
   },
   "file_extension": ".py",
   "mimetype": "text/x-python",
   "name": "python",
   "nbconvert_exporter": "python",
   "pygments_lexer": "ipython3",
   "version": "3.13.1"
  }
 },
 "nbformat": 4,
 "nbformat_minor": 2
}
